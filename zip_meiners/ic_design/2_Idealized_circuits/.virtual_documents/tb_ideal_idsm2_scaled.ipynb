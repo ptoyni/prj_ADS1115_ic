


#interactive widget requires pip install ipympl  
%matplotlib widget
import matplotlib.pyplot as plt
import math
import pandas as pd
from scipy.interpolate import interp1d
import numpy as np


df = pd.read_csv("./simulations/tb_ideal_idsm2_scaled.txt", sep=r'\s+')


df


plt.figure(1)
plt.clf()
plt.plot(df['time'], df['vo1'], label="vo1")
plt.plot(df['time'], df['vo2'], label="vo2")
plt.plot(df['time'], df['q'], label="q")
plt.xlabel("time")
plt.ylabel("voltage")
plt.legend(loc="lower right")
plt.grid()
plt.show()


vmid = 0.6
vin = vmid+7e-3
vfs = 0.5
per = 1e-6
tstart = 1.5e-6
N = 64
dout = df['q']
t = df['time']
ts = np.arange(tstart, tstart+N*per, per)
interp_func = interp1d(t, dout)
dsamp = interp_func(ts)
dsamp[dsamp > 0.6] = 1
dsamp[dsamp < 0.6] = 0
csum = np.cumsum(dsamp)
out = vmid-vfs/2 + np.cumsum(csum)*2.0/N/(N+1)*vfs


plt.figure(2)
plt.clf()
plt.plot(ts, out, label="out")
plt.plot([0, 65e-6], [vin, vin], label="vin")
plt.xlabel("time")
plt.legend(loc="lower right")
plt.grid()
plt.show()


out[-2]


out[-1]


vin



