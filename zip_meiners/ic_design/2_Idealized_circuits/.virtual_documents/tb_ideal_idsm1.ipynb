


#interactive widget requires pip install ipympl  
%matplotlib widget
import matplotlib.pyplot as plt
import math
import pandas as pd
from scipy.interpolate import interp1d
import numpy as np


df = pd.read_csv("./simulations/tb_ideal_idsm1.txt", sep='\s+')


df


plt.figure(1)
plt.clf()
plt.plot(df['time'], df['vo'], label="vo")
plt.plot(df['time'], df['q'], label="q")
plt.xlabel("time")
plt.ylabel("voltage")
plt.legend(loc="upper right")
plt.grid()
plt.show()


# sample q and count number of ones
t = df['time']
ts = np.arange(1.5e-6, 1.5e-6+63*1e-6, 1e-6)
q = df['q']
interp_func = interp1d(t, q)
qsamp = interp_func(ts)
qsamp[qsamp > 0.5] = 1
qsamp[qsamp < 0.5] = 0
dout = np.cumsum(qsamp)
vin = 0.075*64


plt.figure(2)
plt.clf()
plt.plot(ts, dout, label="dout")
plt.plot([0, 64e-6], [vin, vin], label="vin")
plt.xlabel("time")
plt.legend(loc="lower right")
plt.grid()
plt.show()



