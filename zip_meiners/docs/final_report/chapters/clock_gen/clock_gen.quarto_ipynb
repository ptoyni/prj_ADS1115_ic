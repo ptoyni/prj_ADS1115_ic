{
  "cells": [
    {
      "cell_type": "markdown",
      "metadata": {},
      "source": [
        "## Clock-Phase generation\n",
        "\n",
        "The aforementioned delay in the phases of the clocks acting on the switched capacitor can be achieved by the structure in figure @fig-phase_gen. This takes a reference clock signal which provides a signal at the frequency required by the system and outputs four different phases $\\phi_1$, $\\phi_{1d}$, $\\phi_2$ and $\\phi_{2d}$. The feedback between the upper and lower strand of the structure, in conjunction with the NAND gates, ensures the prevention of overlap between $\\phi_1$ and $\\phi_2$ and in turn for their respective delayed versions.\n",
        "\n",
        "![Basic structure for delayed clock phase generation](figures/clk_gen/schem_clock_generation.svg){#fig-phase_gen}\n",
        "\n",
        "By changing the capacitance of the marked inverters the actual delay between $\\phi_i$ and $\\phi_{id}$ can be controlled. [@schreier] It is worth noting however, that the capacitive load $C_L$ experienced at the outputs of the structure also has an influence on the phase delay.\n"
      ],
      "id": "79323599"
    },
    {
      "cell_type": "code",
      "metadata": {},
      "source": [
        "#| label: fig-delay_norm\n",
        "#| fig-cap: Delayed clock signals\n",
        "\n",
        "import numpy as np\n",
        "import matplotlib.pyplot as plt\n",
        "import ltspice as lt\n",
        "\n",
        "#parse data from .raw file\n",
        "#for compiling the finished document this path needs to be relative to \"report_grp4.qmd\"\n",
        "fpath       = 'clk_gen/tb_clkgen_save.raw'\n",
        "l           = lt.Ltspice(fpath)\n",
        "l.parse()\n",
        "\n",
        "#extract relevant data\n",
        "time        = l.get_time()\n",
        "vclk        = l.get_data('v(clkin)')\n",
        "vp1         = l.get_data('v(p1)')\n",
        "vp1e        = l.get_data('v(p1e)')\n",
        "vp2         = l.get_data('v(p2)')\n",
        "vp2e        = l.get_data('v(p2e)')\n",
        "\n",
        "#redefine data arrays considering new length\n",
        "factor = 1/15\n",
        "length = round(len(time)/factor)\n",
        "\n",
        "\n",
        "time    = time[1000:1150]\n",
        "vclk    = vclk[1000:1150]\n",
        "vp1     = vp1[1000:1150]\n",
        "vp1e    = vp1e[1000:1150]\n",
        "vp2     = vp2[1000:1150]\n",
        "vp2e    = vp2e[1000:1150]\n",
        "\n",
        "#plot data\n",
        "plt.close('all')\n",
        "plt.figure(1)\n",
        "plt.plot(time*1e9, vp1, label=r'$\\phi_{1d}$')\n",
        "plt.plot(time*1e9, vp1e, label=r'$\\phi_1$')\n",
        "plt.plot(time*1e9, vp2, label=r'$\\phi_2$')\n",
        "plt.title('Voltage input clock over time')\n",
        "plt.xlabel('$t$/ns')\n",
        "plt.ylabel('V')\n",
        "plt.legend()\n",
        "plt.grid()"
      ],
      "id": "fig-delay_norm",
      "execution_count": null,
      "outputs": []
    },
    {
      "cell_type": "markdown",
      "metadata": {},
      "source": [
        "Figure @fig-delay_norm shows the normal delay between $\\phi_1$ and $\\phi_{1d}$ as well as the non-overlap with $\\phi_2$. The structure used for clock generation was modeled after the circuit provided by Boris Murman [@murmann]. In this, they used the *sg13g2* standard cells for the NAND gates and inverters which are not built from single transistors and hence their capacitance can not be changed. Simulations with different values for the load capacitances have proven to not impair the structures functionality.\n",
        "We thus continue with this non-transitorized version, since creating the gates from scratch would add unnecessary complexity.\n"
      ],
      "id": "af49fbf1"
    }
  ],
  "metadata": {
    "kernelspec": {
      "display_name": "Python 3",
      "language": "python",
      "name": "python3"
    }
  },
  "nbformat": 4,
  "nbformat_minor": 5
}